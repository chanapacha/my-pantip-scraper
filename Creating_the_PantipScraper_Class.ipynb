{
  "cells": [
    {
      "cell_type": "markdown",
      "metadata": {
        "id": "view-in-github",
        "colab_type": "text"
      },
      "source": [
        "<a href=\"https://colab.research.google.com/github/chanapacha/my-pantip-scraper/blob/main/Creating_the_PantipScraper_Class.ipynb\" target=\"_parent\"><img src=\"https://colab.research.google.com/assets/colab-badge.svg\" alt=\"Open In Colab\"/></a>"
      ]
    },
    {
      "cell_type": "markdown",
      "metadata": {
        "id": "BHG6qGTmF5YN"
      },
      "source": [
        "# Scrape data\n"
      ]
    },
    {
      "cell_type": "code",
      "execution_count": 1,
      "metadata": {
        "id": "G7uQjW5PGkzK"
      },
      "outputs": [],
      "source": [
        "import requests\n",
        "from bs4 import BeautifulSoup\n",
        "import pandas as pd"
      ]
    },
    {
      "cell_type": "markdown",
      "source": [
        "scrape จากเว็บ pantip ใน tag ประกันชีวิต"
      ],
      "metadata": {
        "id": "99VBRQqE47IS"
      }
    },
    {
      "cell_type": "code",
      "source": [
        "r = requests.get('https://pantip.com/tag/ประกันชีวิต')\n",
        "s = BeautifulSoup(r.content, 'html.parser')"
      ],
      "metadata": {
        "id": "zLISDh9ElNGQ"
      },
      "execution_count": 2,
      "outputs": []
    },
    {
      "cell_type": "code",
      "source": [
        "r"
      ],
      "metadata": {
        "colab": {
          "base_uri": "https://localhost:8080/"
        },
        "id": "H6j-prUKlNJr",
        "outputId": "3b3e3e85-d3ae-44ed-ca01-1fa552141bfa"
      },
      "execution_count": 3,
      "outputs": [
        {
          "output_type": "execute_result",
          "data": {
            "text/plain": [
              "<Response [200]>"
            ]
          },
          "metadata": {},
          "execution_count": 3
        }
      ]
    },
    {
      "cell_type": "code",
      "source": [
        "s.find('a', {'class': 'gtm-latest-topic gtm-topic-layout-compact gtm-topic-type-filter-all'})"
      ],
      "metadata": {
        "colab": {
          "base_uri": "https://localhost:8080/"
        },
        "id": "U_FnuCDk37jG",
        "outputId": "2d3f5d98-f489-4967-9c40-ec67e1e08285"
      },
      "execution_count": 4,
      "outputs": [
        {
          "output_type": "execute_result",
          "data": {
            "text/plain": [
              "<a class=\"gtm-latest-topic gtm-topic-layout-compact gtm-topic-type-filter-all\" href=\"https://pantip.com/topic/42660235\" target=\"_blank\"><i class=\"pantip-icons md-18 pt-ic-topic_type_talking\"></i>ก้าวแรกเป็นตัวแทนประกัน กว่าจะได้ลูกค้ารายแรกเหนื่อยไหมคะ</a>"
            ]
          },
          "metadata": {},
          "execution_count": 4
        }
      ]
    },
    {
      "cell_type": "code",
      "source": [
        "s.find('a', {'class': 'gtm-latest-topic gtm-topic-layout-compact gtm-topic-type-filter-all'})['href']"
      ],
      "metadata": {
        "colab": {
          "base_uri": "https://localhost:8080/",
          "height": 35
        },
        "id": "OOHq5maP37xJ",
        "outputId": "783d2d5a-0f1f-4a57-84ab-7040b58cd3ed"
      },
      "execution_count": 5,
      "outputs": [
        {
          "output_type": "execute_result",
          "data": {
            "text/plain": [
              "'https://pantip.com/topic/42660235'"
            ],
            "application/vnd.google.colaboratory.intrinsic+json": {
              "type": "string"
            }
          },
          "metadata": {},
          "execution_count": 5
        }
      ]
    },
    {
      "cell_type": "code",
      "source": [
        "links = []\n",
        "\n",
        "for topic in s.find_all('li', {'class': 'pt-list-item'}):\n",
        "  link = topic.find('a')['href']\n",
        "  links.append(link)"
      ],
      "metadata": {
        "id": "HM04Szja5iDC"
      },
      "execution_count": 3,
      "outputs": []
    },
    {
      "cell_type": "code",
      "source": [
        "links[:5]"
      ],
      "metadata": {
        "colab": {
          "base_uri": "https://localhost:8080/"
        },
        "id": "9peWv4y_50gl",
        "outputId": "2cf3d363-30c7-4a17-dfc9-d932b8a4bba5"
      },
      "execution_count": 7,
      "outputs": [
        {
          "output_type": "execute_result",
          "data": {
            "text/plain": [
              "['https://pantip.com/topic/42660235',\n",
              " 'https://pantip.com/topic/42660160',\n",
              " 'https://pantip.com/topic/42659926',\n",
              " 'https://pantip.com/topic/42655839',\n",
              " 'https://pantip.com/topic/42654344']"
            ]
          },
          "metadata": {},
          "execution_count": 7
        }
      ]
    },
    {
      "cell_type": "markdown",
      "source": [
        "scrape หัวข้อกระทู้"
      ],
      "metadata": {
        "id": "S6VPj1qq5-Eg"
      }
    },
    {
      "cell_type": "code",
      "source": [
        "request = requests.get('https://pantip.com/topic/42660235')\n",
        "beauty = BeautifulSoup(request.content, 'html.parser')"
      ],
      "metadata": {
        "id": "jwvLsfvW7nFA"
      },
      "execution_count": 4,
      "outputs": []
    },
    {
      "cell_type": "code",
      "source": [
        "request"
      ],
      "metadata": {
        "colab": {
          "base_uri": "https://localhost:8080/"
        },
        "id": "qFzSb5N1779I",
        "outputId": "4ff3579f-a5b5-4d16-d6d6-7714d7702f2b"
      },
      "execution_count": 5,
      "outputs": [
        {
          "output_type": "execute_result",
          "data": {
            "text/plain": [
              "<Response [200]>"
            ]
          },
          "metadata": {},
          "execution_count": 5
        }
      ]
    },
    {
      "cell_type": "code",
      "source": [
        "beauty.find('h2', {'class': 'display-post-title'})"
      ],
      "metadata": {
        "colab": {
          "base_uri": "https://localhost:8080/"
        },
        "id": "HGEDzTUF6Buc",
        "outputId": "7d3b5778-3b3d-47c6-fc9a-4f38b9f6699e"
      },
      "execution_count": 6,
      "outputs": [
        {
          "output_type": "execute_result",
          "data": {
            "text/plain": [
              "<h2 class=\"display-post-title\">ก้าวแรกเป็นตัวแทนประกัน กว่าจะได้ลูกค้ารายแรกเหนื่อยไหมคะ</h2>"
            ]
          },
          "metadata": {},
          "execution_count": 6
        }
      ]
    },
    {
      "cell_type": "code",
      "source": [
        "beauty.find('h2', {'class': 'display-post-title'}).text"
      ],
      "metadata": {
        "colab": {
          "base_uri": "https://localhost:8080/",
          "height": 35
        },
        "id": "3KEbRYtR7RJI",
        "outputId": "f8226729-db98-4b3a-f176-fb26711e1ea6"
      },
      "execution_count": 7,
      "outputs": [
        {
          "output_type": "execute_result",
          "data": {
            "text/plain": [
              "'ก้าวแรกเป็นตัวแทนประกัน กว่าจะได้ลูกค้ารายแรกเหนื่อยไหมคะ'"
            ],
            "application/vnd.google.colaboratory.intrinsic+json": {
              "type": "string"
            }
          },
          "metadata": {},
          "execution_count": 7
        }
      ]
    },
    {
      "cell_type": "markdown",
      "source": [
        "รายละเอียดกระทู้"
      ],
      "metadata": {
        "id": "xQfIDYw87S62"
      }
    },
    {
      "cell_type": "code",
      "source": [
        "beauty.find('div', {'class': 'display-post-story'})"
      ],
      "metadata": {
        "colab": {
          "base_uri": "https://localhost:8080/"
        },
        "id": "-7ZP_h1D7V8E",
        "outputId": "8d3713bd-2b57-437c-8b6d-5b10f333ab44"
      },
      "execution_count": 8,
      "outputs": [
        {
          "output_type": "execute_result",
          "data": {
            "text/plain": [
              "<div class=\"display-post-story\">\n",
              "\t\t\t\t\t\t\t\tกำลังเริ่มเข้าสู่ตัวแทนขายประกันค่ะ อยากขอเทคนิค ความรู้ หรือแชร์ประสบการณ์การปิดเคสแรก<br/>\n",
              "เรากำลังเร่งศึกษาแผนแต่ละตัวให้เกิดความมั่นใจ แล้วเสนอคนใกล้ๆตัว<br/>\n",
              "จริงๆเกริ่นๆไปบ้าง แต่ก็ยังปิดเคสไม่ได้เลยค่ะ กลัวว่าวันหนึ่งตัวเองจะท้อค่ะ\t\t\t\t\t\t\t\t\t\t\t\t\t\t\t\t\t\t\t\t\t\t\t\t\t\t\t\t\t\t\t</div>"
            ]
          },
          "metadata": {},
          "execution_count": 8
        }
      ]
    },
    {
      "cell_type": "code",
      "source": [
        "beauty.find('div', {'class': 'display-post-story'}).text.strip()"
      ],
      "metadata": {
        "colab": {
          "base_uri": "https://localhost:8080/",
          "height": 53
        },
        "id": "-wPur4wG7V_E",
        "outputId": "0efcf100-70d5-44c9-b139-9cf9e93341c8"
      },
      "execution_count": 9,
      "outputs": [
        {
          "output_type": "execute_result",
          "data": {
            "text/plain": [
              "'กำลังเริ่มเข้าสู่ตัวแทนขายประกันค่ะ อยากขอเทคนิค ความรู้ หรือแชร์ประสบการณ์การปิดเคสแรก\\nเรากำลังเร่งศึกษาแผนแต่ละตัวให้เกิดความมั่นใจ แล้วเสนอคนใกล้ๆตัว\\nจริงๆเกริ่นๆไปบ้าง แต่ก็ยังปิดเคสไม่ได้เลยค่ะ กลัวว่าวันหนึ่งตัวเองจะท้อค่ะ'"
            ],
            "application/vnd.google.colaboratory.intrinsic+json": {
              "type": "string"
            }
          },
          "metadata": {},
          "execution_count": 9
        }
      ]
    },
    {
      "cell_type": "markdown",
      "source": [
        "# scrape จาก tag ที่เกี่ยวข้องกับ \"ประกัน\""
      ],
      "metadata": {
        "id": "qxMpW4ax5kpZ"
      }
    },
    {
      "cell_type": "code",
      "execution_count": 11,
      "metadata": {
        "id": "SN0EAoF-x5w5"
      },
      "outputs": [],
      "source": [
        "tag_list = ['ประกันภัยการเดินทาง', 'ประกันวินาศภัย', 'ประกันชีวิต', 'ประกันออนไลน์', 'ประกันสุขภาพ', 'ประกันสินเชื่อบ้าน']\n",
        "title = []\n",
        "story = []\n",
        "source = []\n",
        "url = []"
      ]
    },
    {
      "cell_type": "code",
      "execution_count": 12,
      "metadata": {
        "id": "cDr7mTSKlFxC"
      },
      "outputs": [],
      "source": [
        "url_pre = 'https://pantip.com/tag/'\n",
        "\n",
        "for tag in tag_list:\n",
        "  re = requests.get(url_pre + tag)\n",
        "  soup = BeautifulSoup(re.content, 'html.parser')\n",
        "\n",
        "# Extract Topic URLs\n",
        "  for topic in soup.find_all('li', {'class': 'pt-list-item'}):\n",
        "    link = topic.find('a')['href']\n",
        "    if link not in url:\n",
        "      url.append(link)\n",
        "\n",
        "for u in url[0:5]: # ในที่นี้จะกำหนดให้ใช้แค่ 5 url เพื่อความรวดเร็วในการแสดงตัวอย่าง\n",
        "  req = requests.get(u)\n",
        "  bs = BeautifulSoup(req.content, 'html.parser')\n",
        "\n",
        "# Extracts the topic title\n",
        "  for k in bs.find_all('div', {'class': 'display-post-status-leftside'}):\n",
        "    topic_element = k.find('h2', {'class': 'display-post-title'})\n",
        "\n",
        "    if topic_element is not None:\n",
        "        topic = topic_element.text.strip()\n",
        "        topic = topic.replace('\\n', '')\n",
        "        topic = topic.replace('\\t', '')\n",
        "        topic = topic.replace('\\xa0', '')\n",
        "        topic = topic.replace('*', '')\n",
        "        topic = topic.replace('\\u200b', '')\n",
        "        title.append(topic)\n",
        "\n",
        "# Extracts the story of each title\n",
        "  for j in bs.find_all('div', {'class': 'display-post-story-wrapper'}):\n",
        "    content = j.find('div', {'class': 'display-post-story'}).text.strip()\n",
        "    content = content.replace('\\n', '')\n",
        "    content = content.replace('\\t', '')\n",
        "    content = content.replace('\\xa0', '')\n",
        "    content = content.replace('*', '')\n",
        "    content = content.replace('\\u200b', '')\n",
        "    story.append(content)"
      ]
    },
    {
      "cell_type": "markdown",
      "metadata": {
        "id": "7vXECyGMw0KY"
      },
      "source": [
        "## dataframe"
      ]
    },
    {
      "cell_type": "code",
      "source": [
        "data = pd.DataFrame([title, story, source, url[0:5]]).transpose()\n",
        "data.columns = ['title', 'story', 'source', 'url']\n",
        "data['source'] = 'pantip'\n",
        "data"
      ],
      "metadata": {
        "colab": {
          "base_uri": "https://localhost:8080/",
          "height": 206
        },
        "id": "tHVGuu5WtCKX",
        "outputId": "ed135ea3-27f3-4006-973a-8075d1fe5f5a"
      },
      "execution_count": 22,
      "outputs": [
        {
          "output_type": "execute_result",
          "data": {
            "text/plain": [
              "                                               title  \\\n",
              "0  ใคคพอรู้บ้างว่า ประกันเดินทางตอนไปต่างประเทศขอ...   \n",
              "1  DTAC Go Travel ฟรีประกันการเดินทาง ต้องทำอย่าง...   \n",
              "2      ช่วยแนะนำประกันภัยรถยนต์ตั้งแต่ 3 + ขึ้นไปค่ะ   \n",
              "3  Lounge Key, Dragon Pass, Priority Pass ต่างกัน...   \n",
              "4  ต่อประกันรถยนต์ไม่ได้ Rabbit Care ไม่ยอมยกเลิก...   \n",
              "\n",
              "                                               story  source  \\\n",
              "0  พอดีกำลังจะไปเวียดนาม เลยไม่มั่นใจว่า เวลาจะ a...  pantip   \n",
              "1  สมัครแพคเกจ Go Travel 549 บาทไว้ของ DTAC เห็นม...  pantip   \n",
              "2  Honda civic ปี 2003ขอ 3 + ขึ้น ไป น่า จะ ดี กว...  pantip   \n",
              "3  สงสัยเรื่อง Lounge สนามบินทั้งสามครับ Lounge K...  pantip   \n",
              "4  จ่ายเงินไปแล้ว แต่ออกกรมธรรม์ไม่ได้ แจ้งทาง Ra...  pantip   \n",
              "\n",
              "                                 url  \n",
              "0  https://pantip.com/topic/42658999  \n",
              "1  https://pantip.com/topic/42639023  \n",
              "2  https://pantip.com/topic/42635808  \n",
              "3  https://pantip.com/topic/42626591  \n",
              "4  https://pantip.com/topic/42623033  "
            ],
            "text/html": [
              "\n",
              "  <div id=\"df-b4f3bf69-e5d9-4a30-8998-d901506328be\" class=\"colab-df-container\">\n",
              "    <div>\n",
              "<style scoped>\n",
              "    .dataframe tbody tr th:only-of-type {\n",
              "        vertical-align: middle;\n",
              "    }\n",
              "\n",
              "    .dataframe tbody tr th {\n",
              "        vertical-align: top;\n",
              "    }\n",
              "\n",
              "    .dataframe thead th {\n",
              "        text-align: right;\n",
              "    }\n",
              "</style>\n",
              "<table border=\"1\" class=\"dataframe\">\n",
              "  <thead>\n",
              "    <tr style=\"text-align: right;\">\n",
              "      <th></th>\n",
              "      <th>title</th>\n",
              "      <th>story</th>\n",
              "      <th>source</th>\n",
              "      <th>url</th>\n",
              "    </tr>\n",
              "  </thead>\n",
              "  <tbody>\n",
              "    <tr>\n",
              "      <th>0</th>\n",
              "      <td>ใคคพอรู้บ้างว่า ประกันเดินทางตอนไปต่างประเทศขอ...</td>\n",
              "      <td>พอดีกำลังจะไปเวียดนาม เลยไม่มั่นใจว่า เวลาจะ a...</td>\n",
              "      <td>pantip</td>\n",
              "      <td>https://pantip.com/topic/42658999</td>\n",
              "    </tr>\n",
              "    <tr>\n",
              "      <th>1</th>\n",
              "      <td>DTAC Go Travel ฟรีประกันการเดินทาง ต้องทำอย่าง...</td>\n",
              "      <td>สมัครแพคเกจ Go Travel 549 บาทไว้ของ DTAC เห็นม...</td>\n",
              "      <td>pantip</td>\n",
              "      <td>https://pantip.com/topic/42639023</td>\n",
              "    </tr>\n",
              "    <tr>\n",
              "      <th>2</th>\n",
              "      <td>ช่วยแนะนำประกันภัยรถยนต์ตั้งแต่ 3 + ขึ้นไปค่ะ</td>\n",
              "      <td>Honda civic ปี 2003ขอ 3 + ขึ้น ไป น่า จะ ดี กว...</td>\n",
              "      <td>pantip</td>\n",
              "      <td>https://pantip.com/topic/42635808</td>\n",
              "    </tr>\n",
              "    <tr>\n",
              "      <th>3</th>\n",
              "      <td>Lounge Key, Dragon Pass, Priority Pass ต่างกัน...</td>\n",
              "      <td>สงสัยเรื่อง Lounge สนามบินทั้งสามครับ Lounge K...</td>\n",
              "      <td>pantip</td>\n",
              "      <td>https://pantip.com/topic/42626591</td>\n",
              "    </tr>\n",
              "    <tr>\n",
              "      <th>4</th>\n",
              "      <td>ต่อประกันรถยนต์ไม่ได้ Rabbit Care ไม่ยอมยกเลิก...</td>\n",
              "      <td>จ่ายเงินไปแล้ว แต่ออกกรมธรรม์ไม่ได้ แจ้งทาง Ra...</td>\n",
              "      <td>pantip</td>\n",
              "      <td>https://pantip.com/topic/42623033</td>\n",
              "    </tr>\n",
              "  </tbody>\n",
              "</table>\n",
              "</div>\n",
              "    <div class=\"colab-df-buttons\">\n",
              "\n",
              "  <div class=\"colab-df-container\">\n",
              "    <button class=\"colab-df-convert\" onclick=\"convertToInteractive('df-b4f3bf69-e5d9-4a30-8998-d901506328be')\"\n",
              "            title=\"Convert this dataframe to an interactive table.\"\n",
              "            style=\"display:none;\">\n",
              "\n",
              "  <svg xmlns=\"http://www.w3.org/2000/svg\" height=\"24px\" viewBox=\"0 -960 960 960\">\n",
              "    <path d=\"M120-120v-720h720v720H120Zm60-500h600v-160H180v160Zm220 220h160v-160H400v160Zm0 220h160v-160H400v160ZM180-400h160v-160H180v160Zm440 0h160v-160H620v160ZM180-180h160v-160H180v160Zm440 0h160v-160H620v160Z\"/>\n",
              "  </svg>\n",
              "    </button>\n",
              "\n",
              "  <style>\n",
              "    .colab-df-container {\n",
              "      display:flex;\n",
              "      gap: 12px;\n",
              "    }\n",
              "\n",
              "    .colab-df-convert {\n",
              "      background-color: #E8F0FE;\n",
              "      border: none;\n",
              "      border-radius: 50%;\n",
              "      cursor: pointer;\n",
              "      display: none;\n",
              "      fill: #1967D2;\n",
              "      height: 32px;\n",
              "      padding: 0 0 0 0;\n",
              "      width: 32px;\n",
              "    }\n",
              "\n",
              "    .colab-df-convert:hover {\n",
              "      background-color: #E2EBFA;\n",
              "      box-shadow: 0px 1px 2px rgba(60, 64, 67, 0.3), 0px 1px 3px 1px rgba(60, 64, 67, 0.15);\n",
              "      fill: #174EA6;\n",
              "    }\n",
              "\n",
              "    .colab-df-buttons div {\n",
              "      margin-bottom: 4px;\n",
              "    }\n",
              "\n",
              "    [theme=dark] .colab-df-convert {\n",
              "      background-color: #3B4455;\n",
              "      fill: #D2E3FC;\n",
              "    }\n",
              "\n",
              "    [theme=dark] .colab-df-convert:hover {\n",
              "      background-color: #434B5C;\n",
              "      box-shadow: 0px 1px 3px 1px rgba(0, 0, 0, 0.15);\n",
              "      filter: drop-shadow(0px 1px 2px rgba(0, 0, 0, 0.3));\n",
              "      fill: #FFFFFF;\n",
              "    }\n",
              "  </style>\n",
              "\n",
              "    <script>\n",
              "      const buttonEl =\n",
              "        document.querySelector('#df-b4f3bf69-e5d9-4a30-8998-d901506328be button.colab-df-convert');\n",
              "      buttonEl.style.display =\n",
              "        google.colab.kernel.accessAllowed ? 'block' : 'none';\n",
              "\n",
              "      async function convertToInteractive(key) {\n",
              "        const element = document.querySelector('#df-b4f3bf69-e5d9-4a30-8998-d901506328be');\n",
              "        const dataTable =\n",
              "          await google.colab.kernel.invokeFunction('convertToInteractive',\n",
              "                                                    [key], {});\n",
              "        if (!dataTable) return;\n",
              "\n",
              "        const docLinkHtml = 'Like what you see? Visit the ' +\n",
              "          '<a target=\"_blank\" href=https://colab.research.google.com/notebooks/data_table.ipynb>data table notebook</a>'\n",
              "          + ' to learn more about interactive tables.';\n",
              "        element.innerHTML = '';\n",
              "        dataTable['output_type'] = 'display_data';\n",
              "        await google.colab.output.renderOutput(dataTable, element);\n",
              "        const docLink = document.createElement('div');\n",
              "        docLink.innerHTML = docLinkHtml;\n",
              "        element.appendChild(docLink);\n",
              "      }\n",
              "    </script>\n",
              "  </div>\n",
              "\n",
              "\n",
              "<div id=\"df-02b56190-b3d1-43c6-8f93-fa219cf4dac6\">\n",
              "  <button class=\"colab-df-quickchart\" onclick=\"quickchart('df-02b56190-b3d1-43c6-8f93-fa219cf4dac6')\"\n",
              "            title=\"Suggest charts\"\n",
              "            style=\"display:none;\">\n",
              "\n",
              "<svg xmlns=\"http://www.w3.org/2000/svg\" height=\"24px\"viewBox=\"0 0 24 24\"\n",
              "     width=\"24px\">\n",
              "    <g>\n",
              "        <path d=\"M19 3H5c-1.1 0-2 .9-2 2v14c0 1.1.9 2 2 2h14c1.1 0 2-.9 2-2V5c0-1.1-.9-2-2-2zM9 17H7v-7h2v7zm4 0h-2V7h2v10zm4 0h-2v-4h2v4z\"/>\n",
              "    </g>\n",
              "</svg>\n",
              "  </button>\n",
              "\n",
              "<style>\n",
              "  .colab-df-quickchart {\n",
              "      --bg-color: #E8F0FE;\n",
              "      --fill-color: #1967D2;\n",
              "      --hover-bg-color: #E2EBFA;\n",
              "      --hover-fill-color: #174EA6;\n",
              "      --disabled-fill-color: #AAA;\n",
              "      --disabled-bg-color: #DDD;\n",
              "  }\n",
              "\n",
              "  [theme=dark] .colab-df-quickchart {\n",
              "      --bg-color: #3B4455;\n",
              "      --fill-color: #D2E3FC;\n",
              "      --hover-bg-color: #434B5C;\n",
              "      --hover-fill-color: #FFFFFF;\n",
              "      --disabled-bg-color: #3B4455;\n",
              "      --disabled-fill-color: #666;\n",
              "  }\n",
              "\n",
              "  .colab-df-quickchart {\n",
              "    background-color: var(--bg-color);\n",
              "    border: none;\n",
              "    border-radius: 50%;\n",
              "    cursor: pointer;\n",
              "    display: none;\n",
              "    fill: var(--fill-color);\n",
              "    height: 32px;\n",
              "    padding: 0;\n",
              "    width: 32px;\n",
              "  }\n",
              "\n",
              "  .colab-df-quickchart:hover {\n",
              "    background-color: var(--hover-bg-color);\n",
              "    box-shadow: 0 1px 2px rgba(60, 64, 67, 0.3), 0 1px 3px 1px rgba(60, 64, 67, 0.15);\n",
              "    fill: var(--button-hover-fill-color);\n",
              "  }\n",
              "\n",
              "  .colab-df-quickchart-complete:disabled,\n",
              "  .colab-df-quickchart-complete:disabled:hover {\n",
              "    background-color: var(--disabled-bg-color);\n",
              "    fill: var(--disabled-fill-color);\n",
              "    box-shadow: none;\n",
              "  }\n",
              "\n",
              "  .colab-df-spinner {\n",
              "    border: 2px solid var(--fill-color);\n",
              "    border-color: transparent;\n",
              "    border-bottom-color: var(--fill-color);\n",
              "    animation:\n",
              "      spin 1s steps(1) infinite;\n",
              "  }\n",
              "\n",
              "  @keyframes spin {\n",
              "    0% {\n",
              "      border-color: transparent;\n",
              "      border-bottom-color: var(--fill-color);\n",
              "      border-left-color: var(--fill-color);\n",
              "    }\n",
              "    20% {\n",
              "      border-color: transparent;\n",
              "      border-left-color: var(--fill-color);\n",
              "      border-top-color: var(--fill-color);\n",
              "    }\n",
              "    30% {\n",
              "      border-color: transparent;\n",
              "      border-left-color: var(--fill-color);\n",
              "      border-top-color: var(--fill-color);\n",
              "      border-right-color: var(--fill-color);\n",
              "    }\n",
              "    40% {\n",
              "      border-color: transparent;\n",
              "      border-right-color: var(--fill-color);\n",
              "      border-top-color: var(--fill-color);\n",
              "    }\n",
              "    60% {\n",
              "      border-color: transparent;\n",
              "      border-right-color: var(--fill-color);\n",
              "    }\n",
              "    80% {\n",
              "      border-color: transparent;\n",
              "      border-right-color: var(--fill-color);\n",
              "      border-bottom-color: var(--fill-color);\n",
              "    }\n",
              "    90% {\n",
              "      border-color: transparent;\n",
              "      border-bottom-color: var(--fill-color);\n",
              "    }\n",
              "  }\n",
              "</style>\n",
              "\n",
              "  <script>\n",
              "    async function quickchart(key) {\n",
              "      const quickchartButtonEl =\n",
              "        document.querySelector('#' + key + ' button');\n",
              "      quickchartButtonEl.disabled = true;  // To prevent multiple clicks.\n",
              "      quickchartButtonEl.classList.add('colab-df-spinner');\n",
              "      try {\n",
              "        const charts = await google.colab.kernel.invokeFunction(\n",
              "            'suggestCharts', [key], {});\n",
              "      } catch (error) {\n",
              "        console.error('Error during call to suggestCharts:', error);\n",
              "      }\n",
              "      quickchartButtonEl.classList.remove('colab-df-spinner');\n",
              "      quickchartButtonEl.classList.add('colab-df-quickchart-complete');\n",
              "    }\n",
              "    (() => {\n",
              "      let quickchartButtonEl =\n",
              "        document.querySelector('#df-02b56190-b3d1-43c6-8f93-fa219cf4dac6 button');\n",
              "      quickchartButtonEl.style.display =\n",
              "        google.colab.kernel.accessAllowed ? 'block' : 'none';\n",
              "    })();\n",
              "  </script>\n",
              "</div>\n",
              "    </div>\n",
              "  </div>\n"
            ],
            "application/vnd.google.colaboratory.intrinsic+json": {
              "type": "dataframe",
              "variable_name": "data",
              "summary": "{\n  \"name\": \"data\",\n  \"rows\": 5,\n  \"fields\": [\n    {\n      \"column\": \"title\",\n      \"properties\": {\n        \"dtype\": \"string\",\n        \"num_unique_values\": 5,\n        \"samples\": [\n          \"DTAC Go Travel \\u0e1f\\u0e23\\u0e35\\u0e1b\\u0e23\\u0e30\\u0e01\\u0e31\\u0e19\\u0e01\\u0e32\\u0e23\\u0e40\\u0e14\\u0e34\\u0e19\\u0e17\\u0e32\\u0e07 \\u0e15\\u0e49\\u0e2d\\u0e07\\u0e17\\u0e33\\u0e2d\\u0e22\\u0e48\\u0e32\\u0e07\\u0e44\\u0e23\\u0e04\\u0e23\\u0e31\\u0e1a\",\n          \"\\u0e15\\u0e48\\u0e2d\\u0e1b\\u0e23\\u0e30\\u0e01\\u0e31\\u0e19\\u0e23\\u0e16\\u0e22\\u0e19\\u0e15\\u0e4c\\u0e44\\u0e21\\u0e48\\u0e44\\u0e14\\u0e49 Rabbit Care \\u0e44\\u0e21\\u0e48\\u0e22\\u0e2d\\u0e21\\u0e22\\u0e01\\u0e40\\u0e25\\u0e34\\u0e01\\u0e42\\u0e04\\u0e49\\u0e14\\u0e43\\u0e04\\u0e23\\u0e0a\\u0e48\\u0e27\\u0e22\\u0e2b\\u0e19\\u0e48\\u0e2d\\u0e22\\u0e04\\u0e23\\u0e31\\u0e1a\",\n          \"\\u0e0a\\u0e48\\u0e27\\u0e22\\u0e41\\u0e19\\u0e30\\u0e19\\u0e33\\u0e1b\\u0e23\\u0e30\\u0e01\\u0e31\\u0e19\\u0e20\\u0e31\\u0e22\\u0e23\\u0e16\\u0e22\\u0e19\\u0e15\\u0e4c\\u0e15\\u0e31\\u0e49\\u0e07\\u0e41\\u0e15\\u0e48 3 + \\u0e02\\u0e36\\u0e49\\u0e19\\u0e44\\u0e1b\\u0e04\\u0e48\\u0e30\"\n        ],\n        \"semantic_type\": \"\",\n        \"description\": \"\"\n      }\n    },\n    {\n      \"column\": \"story\",\n      \"properties\": {\n        \"dtype\": \"string\",\n        \"num_unique_values\": 5,\n        \"samples\": [\n          \"\\u0e2a\\u0e21\\u0e31\\u0e04\\u0e23\\u0e41\\u0e1e\\u0e04\\u0e40\\u0e01\\u0e08 Go Travel 549 \\u0e1a\\u0e32\\u0e17\\u0e44\\u0e27\\u0e49\\u0e02\\u0e2d\\u0e07 DTAC \\u0e40\\u0e2b\\u0e47\\u0e19\\u0e21\\u0e35\\u0e42\\u0e06\\u0e29\\u0e13\\u0e32\\u0e27\\u0e48\\u0e32\\u0e1f\\u0e23\\u0e35\\u0e1b\\u0e23\\u0e30\\u0e01\\u0e31\\u0e19\\u0e01\\u0e32\\u0e23\\u0e40\\u0e14\\u0e34\\u0e19\\u0e17\\u0e32\\u0e07 FWD \\u0e04\\u0e23\\u0e31\\u0e1a\\u0e40\\u0e25\\u0e22\\u0e25\\u0e2d\\u0e07\\u0e01\\u0e14\\u0e40\\u0e02\\u0e49\\u0e32\\u0e44\\u0e1b\\u0e2d\\u0e48\\u0e32\\u0e19\\u0e40\\u0e07\\u0e37\\u0e48\\u0e2d\\u0e19\\u0e44\\u0e02\\u0e17\\u0e35\\u0e48 https://www.dtac.co.th/ir\\u0e41\\u0e25\\u0e49\\u0e27\\u0e40\\u0e08\\u0e2d link \\u0e43\\u0e2b\\u0e49\\u0e44\\u0e1b\\u0e25\\u0e07\\u0e17\\u0e30\\u0e40\\u0e1a\\u0e35\\u0e22\\u0e19\\u0e17\\u0e35\\u0e48 https://register.tipinsure.com/FreeInsurance/Amity\\u0e41\\u0e15\\u0e48\\u0e1e\\u0e2d\\u0e25\\u0e2d\\u0e07\\u0e01\\u0e14\\u0e40\\u0e1b\\u0e34\\u0e14 link \\u0e01\\u0e47\\u0e1e\\u0e1a\\u0e02\\u0e49\\u0e2d\\u0e04\\u0e27\\u0e32\\u0e21\\u0e41\\u0e08\\u0e49\\u0e07\\u0e27\\u0e48\\u0e32\\u0e01\\u0e32\\u0e23\\u0e25\\u0e07\\u0e17\\u0e30\\u0e40\\u0e1a\\u0e35\\u0e22\\u0e19\\u0e2a\\u0e34\\u0e49\\u0e19\\u0e2a\\u0e38\\u0e14\\u0e41\\u0e25\\u0e49\\u0e27 !\\u0e04\\u0e37\\u0e2d\\u0e2a\\u0e34\\u0e17\\u0e18\\u0e34\\u0e4c\\u0e40\\u0e15\\u0e47\\u0e21\\u0e44\\u0e1b\\u0e41\\u0e25\\u0e49\\u0e27\\u0e40\\u0e2b\\u0e23\\u0e2d\\u0e04\\u0e23\\u0e31\\u0e1a ? \\u0e40\\u0e2b\\u0e47\\u0e19\\u0e23\\u0e30\\u0e22\\u0e30\\u0e40\\u0e27\\u0e25\\u0e32\\u0e23\\u0e31\\u0e1a\\u0e2a\\u0e34\\u0e17\\u0e18\\u0e34\\u0e4c 1 \\u0e40\\u0e21\\u0e29\\u0e32 2567 - 31 \\u0e18\\u0e31\\u0e19\\u0e27\\u0e32, \\u0e19\\u0e35\\u0e48\\u0e1e\\u0e36\\u0e48\\u0e07\\u0e1c\\u0e48\\u0e32\\u0e19\\u0e21\\u0e32 11 \\u0e27\\u0e31\\u0e19 \\u0e44\\u0e21\\u0e48\\u0e15\\u0e49\\u0e2d\\u0e07\\u0e23\\u0e2d\\u0e16\\u0e36\\u0e07\\u0e2a\\u0e34\\u0e49\\u0e19\\u0e1b\\u0e35\\u0e01\\u0e47\\u0e2a\\u0e34\\u0e49\\u0e19\\u0e2a\\u0e38\\u0e14\\u0e41\\u0e25\\u0e49\\u0e27 ?\\u0e2b\\u0e23\\u0e37\\u0e2d\\u0e21\\u0e35\\u0e01\\u0e32\\u0e23\\u0e2d\\u0e31\\u0e1e\\u0e40\\u0e14\\u0e17\\u0e25\\u0e34\\u0e49\\u0e07\\u0e43\\u0e2b\\u0e21\\u0e48\\u0e17\\u0e35\\u0e48\\u0e44\\u0e2b\\u0e19\\u0e2b\\u0e23\\u0e37\\u0e2d\\u0e40\\u0e1b\\u0e25\\u0e48\\u0e32\\u0e04\\u0e23\\u0e31\\u0e1a \\u0e2b\\u0e32\\u0e23\\u0e32\\u0e22\\u0e25\\u0e30\\u0e40\\u0e2d\\u0e35\\u0e22\\u0e14\\u0e44\\u0e21\\u0e48\\u0e40\\u0e08\\u0e2d\",\n          \"\\u0e08\\u0e48\\u0e32\\u0e22\\u0e40\\u0e07\\u0e34\\u0e19\\u0e44\\u0e1b\\u0e41\\u0e25\\u0e49\\u0e27 \\u0e41\\u0e15\\u0e48\\u0e2d\\u0e2d\\u0e01\\u0e01\\u0e23\\u0e21\\u0e18\\u0e23\\u0e23\\u0e21\\u0e4c\\u0e44\\u0e21\\u0e48\\u0e44\\u0e14\\u0e49 \\u0e41\\u0e08\\u0e49\\u0e07\\u0e17\\u0e32\\u0e07 Rabbit Care \\u0e01\\u0e47\\u0e44\\u0e21\\u0e48\\u0e22\\u0e2d\\u0e21\\u0e22\\u0e01\\u0e40\\u0e25\\u0e34\\u0e01\\u0e43\\u0e2b\\u0e49\\u0e01\\u0e23\\u0e13\\u0e35\\u0e19\\u0e35\\u0e49\\u0e15\\u0e49\\u0e2d\\u0e07\\u0e17\\u0e33\\u0e22\\u0e31\\u0e07\\u0e44\\u0e07\\u0e04\\u0e23\\u0e31\\u0e1a\",\n          \"Honda civic \\u0e1b\\u0e35 2003\\u0e02\\u0e2d 3 + \\u0e02\\u0e36\\u0e49\\u0e19 \\u0e44\\u0e1b \\u0e19\\u0e48\\u0e32 \\u0e08\\u0e30 \\u0e14\\u0e35 \\u0e01\\u0e27\\u0e48\\u0e32 3\\u0e22\\u0e37\\u0e19\\u0e07\\u0e07 \\u0e43\\u0e19\\u0e14\\u0e07\\u0e1b\\u0e23\\u0e30\\u0e01\\u0e31\\u0e19 \\u0e21\\u0e35\\u0e41\\u0e15\\u0e48\\u0e43\\u0e2b\\u0e49\\u0e43\\u0e2a\\u0e48\\u0e40\\u0e1a\\u0e2d\\u0e23\\u0e4c \\u0e15\\u0e34\\u0e14\\u0e15\\u0e48\\u0e2d\\u0e01\\u0e25\\u0e31\\u0e1a \\u0e42\\u0e17\\u0e23\\u0e21\\u0e32\\u0e01\\u0e47\\u0e19\\u0e36\\u0e01\\u0e20\\u0e32\\u0e1e\\u0e44\\u0e21\\u0e48\\u0e2d\\u0e2d\\u0e01 \\u0e44\\u0e21\\u0e48\\u0e21\\u0e35\\u0e40\\u0e2d\\u0e01\\u0e2a\\u0e32\\u0e23 \\u0e1b\\u0e23\\u0e30\\u0e01\\u0e2d\\u0e1a\\u0e01\\u0e32\\u0e23\\u0e1e\\u0e34\\u0e08\\u0e32\\u0e23\\u0e13\\u0e32\\u0e41\\u0e17\\u0e47\\u0e01\\u0e44\\u0e21\\u0e48\\u0e44\\u0e14\\u0e49   \\u0e41\\u0e01\\u0e49\\u0e44\\u0e02\\u0e02\\u0e49\\u0e2d\\u0e04\\u0e27\\u0e32\\u0e21\\u0e40\\u0e21\\u0e37\\u0e48\\u0e2d\"\n        ],\n        \"semantic_type\": \"\",\n        \"description\": \"\"\n      }\n    },\n    {\n      \"column\": \"source\",\n      \"properties\": {\n        \"dtype\": \"category\",\n        \"num_unique_values\": 1,\n        \"samples\": [\n          \"pantip\"\n        ],\n        \"semantic_type\": \"\",\n        \"description\": \"\"\n      }\n    },\n    {\n      \"column\": \"url\",\n      \"properties\": {\n        \"dtype\": \"string\",\n        \"num_unique_values\": 5,\n        \"samples\": [\n          \"https://pantip.com/topic/42639023\"\n        ],\n        \"semantic_type\": \"\",\n        \"description\": \"\"\n      }\n    }\n  ]\n}"
            }
          },
          "metadata": {},
          "execution_count": 22
        }
      ]
    },
    {
      "cell_type": "markdown",
      "source": [
        "# Apply Using Selenium to get more URL link"
      ],
      "metadata": {
        "id": "yj_G-Gh_XVWs"
      }
    },
    {
      "cell_type": "code",
      "source": [
        "# install selenium\n",
        "!pip install selenium\n",
        "# install chrom driver\n",
        "!apt-get update\n",
        "!apt-get install chromium chromium-driver"
      ],
      "metadata": {
        "colab": {
          "base_uri": "https://localhost:8080/"
        },
        "id": "C8SRF7PsdLLy",
        "outputId": "ee535d17-dafe-4735-a189-3d7507219f8a"
      },
      "execution_count": 24,
      "outputs": [
        {
          "output_type": "stream",
          "name": "stdout",
          "text": [
            "Collecting selenium\n",
            "  Downloading selenium-4.19.0-py3-none-any.whl (10.5 MB)\n",
            "\u001b[2K     \u001b[90m━━━━━━━━━━━━━━━━━━━━━━━━━━━━━━━━━━━━━━━━\u001b[0m \u001b[32m10.5/10.5 MB\u001b[0m \u001b[31m57.3 MB/s\u001b[0m eta \u001b[36m0:00:00\u001b[0m\n",
            "\u001b[?25hRequirement already satisfied: urllib3[socks]<3,>=1.26 in /usr/local/lib/python3.10/dist-packages (from selenium) (2.0.7)\n",
            "Collecting trio~=0.17 (from selenium)\n",
            "  Downloading trio-0.25.0-py3-none-any.whl (467 kB)\n",
            "\u001b[2K     \u001b[90m━━━━━━━━━━━━━━━━━━━━━━━━━━━━━━━━━━━━━━━━\u001b[0m \u001b[32m467.2/467.2 kB\u001b[0m \u001b[31m33.2 MB/s\u001b[0m eta \u001b[36m0:00:00\u001b[0m\n",
            "\u001b[?25hCollecting trio-websocket~=0.9 (from selenium)\n",
            "  Downloading trio_websocket-0.11.1-py3-none-any.whl (17 kB)\n",
            "Requirement already satisfied: certifi>=2021.10.8 in /usr/local/lib/python3.10/dist-packages (from selenium) (2024.2.2)\n",
            "Requirement already satisfied: typing_extensions>=4.9.0 in /usr/local/lib/python3.10/dist-packages (from selenium) (4.11.0)\n",
            "Requirement already satisfied: attrs>=23.2.0 in /usr/local/lib/python3.10/dist-packages (from trio~=0.17->selenium) (23.2.0)\n",
            "Requirement already satisfied: sortedcontainers in /usr/local/lib/python3.10/dist-packages (from trio~=0.17->selenium) (2.4.0)\n",
            "Requirement already satisfied: idna in /usr/local/lib/python3.10/dist-packages (from trio~=0.17->selenium) (3.7)\n",
            "Collecting outcome (from trio~=0.17->selenium)\n",
            "  Downloading outcome-1.3.0.post0-py2.py3-none-any.whl (10 kB)\n",
            "Requirement already satisfied: sniffio>=1.3.0 in /usr/local/lib/python3.10/dist-packages (from trio~=0.17->selenium) (1.3.1)\n",
            "Requirement already satisfied: exceptiongroup in /usr/local/lib/python3.10/dist-packages (from trio~=0.17->selenium) (1.2.1)\n",
            "Collecting wsproto>=0.14 (from trio-websocket~=0.9->selenium)\n",
            "  Downloading wsproto-1.2.0-py3-none-any.whl (24 kB)\n",
            "Requirement already satisfied: pysocks!=1.5.7,<2.0,>=1.5.6 in /usr/local/lib/python3.10/dist-packages (from urllib3[socks]<3,>=1.26->selenium) (1.7.1)\n",
            "Collecting h11<1,>=0.9.0 (from wsproto>=0.14->trio-websocket~=0.9->selenium)\n",
            "  Downloading h11-0.14.0-py3-none-any.whl (58 kB)\n",
            "\u001b[2K     \u001b[90m━━━━━━━━━━━━━━━━━━━━━━━━━━━━━━━━━━━━━━━━\u001b[0m \u001b[32m58.3/58.3 kB\u001b[0m \u001b[31m5.9 MB/s\u001b[0m eta \u001b[36m0:00:00\u001b[0m\n",
            "\u001b[?25hInstalling collected packages: outcome, h11, wsproto, trio, trio-websocket, selenium\n",
            "Successfully installed h11-0.14.0 outcome-1.3.0.post0 selenium-4.19.0 trio-0.25.0 trio-websocket-0.11.1 wsproto-1.2.0\n",
            "Get:1 http://security.ubuntu.com/ubuntu jammy-security InRelease [110 kB]\n",
            "Get:2 https://cloud.r-project.org/bin/linux/ubuntu jammy-cran40/ InRelease [3,626 B]\n",
            "Get:3 https://developer.download.nvidia.com/compute/cuda/repos/ubuntu2204/x86_64  InRelease [1,581 B]\n",
            "Hit:4 http://archive.ubuntu.com/ubuntu jammy InRelease\n",
            "Get:5 http://archive.ubuntu.com/ubuntu jammy-updates InRelease [119 kB]\n",
            "Hit:6 https://ppa.launchpadcontent.net/c2d4u.team/c2d4u4.0+/ubuntu jammy InRelease\n",
            "Get:7 http://security.ubuntu.com/ubuntu jammy-security/restricted amd64 Packages [2,251 kB]\n",
            "Hit:8 https://ppa.launchpadcontent.net/deadsnakes/ppa/ubuntu jammy InRelease\n",
            "Get:9 http://security.ubuntu.com/ubuntu jammy-security/main amd64 Packages [1,748 kB]\n",
            "Hit:10 https://ppa.launchpadcontent.net/graphics-drivers/ppa/ubuntu jammy InRelease\n",
            "Get:11 https://developer.download.nvidia.com/compute/cuda/repos/ubuntu2204/x86_64  Packages [812 kB]\n",
            "Get:12 http://security.ubuntu.com/ubuntu jammy-security/universe amd64 Packages [1,077 kB]\n",
            "Hit:13 https://ppa.launchpadcontent.net/ubuntugis/ppa/ubuntu jammy InRelease\n",
            "Hit:14 http://archive.ubuntu.com/ubuntu jammy-backports InRelease\n",
            "Get:15 http://archive.ubuntu.com/ubuntu jammy-updates/universe amd64 Packages [1,369 kB]\n",
            "Get:16 http://archive.ubuntu.com/ubuntu jammy-updates/main amd64 Packages [2,032 kB]\n",
            "Get:17 http://archive.ubuntu.com/ubuntu jammy-updates/restricted amd64 Packages [2,333 kB]\n",
            "Fetched 11.9 MB in 4s (3,062 kB/s)\n",
            "Reading package lists... Done\n",
            "Reading package lists... Done\n",
            "Building dependency tree... Done\n",
            "Reading state information... Done\n",
            "Note, selecting 'chromium-chromedriver' instead of 'chromium-driver'\n",
            "Package chromium is not available, but is referred to by another package.\n",
            "This may mean that the package is missing, has been obsoleted, or\n",
            "is only available from another source\n",
            "However the following packages replace it:\n",
            "  chromium-bsu\n",
            "\n",
            "E: Package 'chromium' has no installation candidate\n"
          ]
        }
      ]
    },
    {
      "cell_type": "code",
      "source": [
        "# import selenium library\n",
        "from selenium import webdriver\n",
        "\n",
        "# import beatifulsoup and other necessary lib for web scraping\n",
        "import requests\n",
        "from bs4 import BeautifulSoup\n",
        "import time\n",
        "import pandas as pd"
      ],
      "metadata": {
        "id": "gs5YiUZLdVjE"
      },
      "execution_count": 25,
      "outputs": []
    },
    {
      "cell_type": "code",
      "source": [
        "# Selenium settings\n",
        "def web_driver():\n",
        "    options = webdriver.ChromeOptions()\n",
        "    options.add_argument(\"--verbose\")\n",
        "    options.add_argument('--no-sandbox')\n",
        "    options.add_argument('--headless')\n",
        "    options.add_argument('--disable-gpu')\n",
        "    options.add_argument(\"--window-size=1920, 1200\")\n",
        "    options.add_argument('--disable-dev-shm-usage')\n",
        "    driver = webdriver.Chrome(options=options)\n",
        "    return driver\n"
      ],
      "metadata": {
        "id": "5b6SkknpdYb9"
      },
      "execution_count": 29,
      "outputs": []
    },
    {
      "cell_type": "code",
      "source": [
        "tag_list = ['ประกันภัยการเดินทาง', 'ประกันวินาศภัย', 'ประกันชีวิต', 'ประกันออนไลน์', 'ประกันสุขภาพ', 'ประกันสินเชื่อบ้าน']\n",
        "text = []\n",
        "source = []\n",
        "url = []\n",
        "url_pre = 'https://pantip.com/tag/'\n",
        "\n",
        "# Initialize the Chrome driver\n",
        "driver = web_driver()\n",
        "\n",
        "# Set the number of times to scroll\n",
        "scroll_iterations = 2  # Adjust this number as needed\n",
        "\n",
        "for tag in tag_list:\n",
        "    url_tag = url_pre + tag\n",
        "    driver.get(url_tag)\n",
        "\n",
        "    for _ in range(scroll_iterations):\n",
        "        # Scroll down to bottom\n",
        "        driver.execute_script(\"window.scrollTo(0, document.body.scrollHeight);\")\n",
        "\n",
        "        # Wait to load page\n",
        "        time.sleep(2)\n",
        "\n",
        "    # Now that the page has scrolled the desired number of times, parse the HTML with BeautifulSoup\n",
        "    soup = BeautifulSoup(driver.page_source, 'html.parser')\n",
        "\n",
        "    for topic in soup.find_all('li', {'class': 'pt-list-item'}):\n",
        "        link = topic.find('a')['href']\n",
        "        if link not in url:\n",
        "            url.append(link)\n",
        "\n",
        "# Close the Selenium webdriver\n",
        "driver.quit()"
      ],
      "metadata": {
        "id": "thM0yk98c-Sp"
      },
      "execution_count": 30,
      "outputs": []
    },
    {
      "cell_type": "code",
      "source": [
        "# ได้ URL link มาเยอะกว่าเดิม\n",
        "len(url)"
      ],
      "metadata": {
        "colab": {
          "base_uri": "https://localhost:8080/"
        },
        "id": "pRwpqyDIdtI9",
        "outputId": "54d5fad2-e46b-4e9a-8a4b-8fd95b4feb8f"
      },
      "execution_count": 31,
      "outputs": [
        {
          "output_type": "execute_result",
          "data": {
            "text/plain": [
              "834"
            ]
          },
          "metadata": {},
          "execution_count": 31
        }
      ]
    },
    {
      "cell_type": "markdown",
      "source": [
        "# Creating the PantipScraper Class\n",
        "create by Chanapa Chareesan"
      ],
      "metadata": {
        "id": "IsWz19PS1MyF"
      }
    },
    {
      "cell_type": "code",
      "source": [
        "%%writefile PantipTagScraper.py\n",
        "from selenium import webdriver\n",
        "from bs4 import BeautifulSoup\n",
        "import requests\n",
        "import pandas as pd\n",
        "import time\n",
        "\n",
        "class PantipScraper:\n",
        "    def __init__(self, scroll_iterations=0):\n",
        "        self.scroll_iterations = scroll_iterations\n",
        "\n",
        "    # Initialize the Chrome webdriver with specified options\n",
        "    def web_driver(self):\n",
        "        options = webdriver.ChromeOptions()\n",
        "        options.add_argument(\"--verbose\")\n",
        "        options.add_argument('--no-sandbox')\n",
        "        options.add_argument('--headless')\n",
        "        options.add_argument('--disable-gpu')\n",
        "        options.add_argument(\"--window-size=1920, 1200\")\n",
        "        options.add_argument('--disable-dev-shm-usage')\n",
        "        return webdriver.Chrome(options=options)\n",
        "\n",
        "    # Function to get URLs of topics based on tag list\n",
        "    def get_topic_urls(self, tag_list):\n",
        "        url_pre = 'https://pantip.com/tag/'\n",
        "        urls = []\n",
        "\n",
        "        # Initialize the Chrome driver\n",
        "        driver = self.web_driver()\n",
        "        try:\n",
        "            for tag in tag_list:\n",
        "                url_tag = url_pre + tag\n",
        "                driver.get(url_tag)\n",
        "\n",
        "                # Scroll the page down to load more topics if specified\n",
        "                for _ in range(self.scroll_iterations):\n",
        "                    driver.execute_script(\"window.scrollTo(0, document.body.scrollHeight);\")\n",
        "                    time.sleep(2)  # Wait for the page to load after scrolling\n",
        "\n",
        "                # Parse the HTML content with BeautifulSoup\n",
        "                soup = BeautifulSoup(driver.page_source, 'html.parser')\n",
        "\n",
        "                # Find all topic links and append them to the list of URLs\n",
        "                for topic in soup.find_all('li', {'class': 'pt-list-item'}):\n",
        "                    link = topic.find('a')['href']\n",
        "                    if link not in urls:\n",
        "                        urls.append(link)\n",
        "        except Exception as e:\n",
        "            print(f\"An error occurred: {e}\")\n",
        "        finally:\n",
        "            driver.quit()  # Close the Selenium webdriver\n",
        "\n",
        "        return urls\n",
        "\n",
        "    # Function to scrape data (title and story) from each topic URL\n",
        "    def scrape_topic_data(self, urls):\n",
        "        data = []\n",
        "        for u in urls:\n",
        "            try:\n",
        "                req = requests.get(u)\n",
        "                bs = BeautifulSoup(req.content, 'html.parser')\n",
        "\n",
        "                # Find title and story elements and extract text\n",
        "                for k in bs.find_all('div', {'class': 'display-post-status-leftside'}):\n",
        "                    topic_element = k.find('h2', {'class': 'display-post-title'})\n",
        "                    if topic_element:\n",
        "                        topic = topic_element.text.strip().replace('\\n', '').replace('\\t', '').replace('\\xa0', '').replace('*', '').replace('\\u200b', '')\n",
        "\n",
        "                        story = bs.find('div', {'class': 'display-post-story'})\n",
        "                        if story:\n",
        "                            story_text = story.text.strip().replace('\\n', '').replace('\\t', '').replace('\\xa0', '').replace('*', '').replace('\\u200b', '')\n",
        "\n",
        "                            # Append the data as a dictionary to the list\n",
        "                            data.append({'url': u, 'title': topic, 'story': story_text})\n",
        "            except Exception as e:\n",
        "                print(f\"An error occurred while scraping data from URL '{u}': {e}\")\n",
        "\n",
        "        return data\n",
        "\n",
        "    # Function to convert scraped data to DataFrame\n",
        "    def to_dataframe(self, data):\n",
        "        return pd.DataFrame(data)"
      ],
      "metadata": {
        "colab": {
          "base_uri": "https://localhost:8080/"
        },
        "id": "Dd-1a8d25U1v",
        "outputId": "d4106f76-648b-4307-aa0c-f1aa20edc0d1"
      },
      "execution_count": 27,
      "outputs": [
        {
          "output_type": "stream",
          "name": "stdout",
          "text": [
            "Writing PantipTagScraper.py\n"
          ]
        }
      ]
    },
    {
      "cell_type": "code",
      "source": [
        "# Example usage\n",
        "scraper = PantipScraper(scroll_iterations=0)  # Initialize the scraper with 2 scroll iterations\n",
        "urls = scraper.get_topic_urls(['ประกันชีวิต'])  # Get topic URLs for specified tag\n",
        "data = scraper.scrape_topic_data(urls[0:10])  # Scrape data (title and story) from each URL\n",
        "df = scraper.to_dataframe(data)  # Convert scraped data to DataFrame"
      ],
      "metadata": {
        "id": "WmZ-GJkb57-a"
      },
      "execution_count": 56,
      "outputs": []
    },
    {
      "cell_type": "code",
      "source": [
        "df"
      ],
      "metadata": {
        "colab": {
          "base_uri": "https://localhost:8080/",
          "height": 363
        },
        "id": "O06XuTh76wuE",
        "outputId": "1fbf9315-9c71-492c-c1a0-eb9723732860"
      },
      "execution_count": 58,
      "outputs": [
        {
          "output_type": "execute_result",
          "data": {
            "text/plain": [
              "                                 url  \\\n",
              "0  https://pantip.com/topic/42470306   \n",
              "1  https://pantip.com/topic/41850025   \n",
              "2  https://pantip.com/topic/42660160   \n",
              "3  https://pantip.com/topic/42369379   \n",
              "4  https://pantip.com/topic/41641266   \n",
              "5  https://pantip.com/topic/42659926   \n",
              "6  https://pantip.com/topic/42479831   \n",
              "7  https://pantip.com/topic/42228144   \n",
              "8  https://pantip.com/topic/42545425   \n",
              "9  https://pantip.com/topic/42058854   \n",
              "\n",
              "                                               title  \\\n",
              "0                        ประกันสุขภาพที่ไหนดีคะ 2567   \n",
              "1                          ประกันสุขภาพแบบไหนดี 2566   \n",
              "2                         ยกเลิกประกันชีวิตดีไหมครับ   \n",
              "3  ตกงาน!! 6เดือนแล้ว มีแต่คนชวนไปขายประกัน ควรลอ...   \n",
              "4         ต้องการยกเลิกกรมธรรม์ FWD สะสมทรัพย์ 10/20   \n",
              "5                       กรุงไทยAxa ไม่เคลมมีใบประกาศ   \n",
              "6         คิดจะทำประกันชีวิตตอนอายุ 35 ช้าไปมั้ยครับ   \n",
              "7  ทำไมคนต้องการยกเลิก ประกัน อุบัติเหตุ ของ SCB ...   \n",
              "8                       อยากซื้อประกันสุขภาพค่ะ 2567   \n",
              "9  การดำเนินการเวนคืนกรมธรรม์ FWD ดำเนินการอย่างไ...   \n",
              "\n",
              "                                               story  \n",
              "0  คือเราอยากทำประกันสุขภาพ+อุบัติเหตุ ที่ไม่ต้อง...  \n",
              "1  ช่วยแนะนำทีค่ะ อยากได้ประกันสุขภาพที่ครอบคลุมท...  \n",
              "2  สมัยทำงานแรกๆเคยซื้อประกันชีวิตไว้ให้พ่อเป็นแบ...  \n",
              "3  กำลังเครียดมากเลยค่ะว่างงานมา6เดือนแล้วสัมภาษณ...  \n",
              "4  รบกวนสอบถามครับพอดีมีเจ้าหน้าที่ FWD เสนอโปรโม...  \n",
              "5  เรื่องมีอยู่ว่าลูกสาวนอนรพล่าสุดเป็นไข้หวัดใหญ...  \n",
              "6  คิดจะทำประกันชีวิตตอนอายุ35ช้าไปมั้ยครับเห็นเพ...  \n",
              "7  คือพอดีพึ่งมีสายจากตัวแทนขายประกันโทรมาเมื่อตอ...  \n",
              "8  อายุจะ23อีกประมาณ2อาทิตย์นี้ค่ะ อยากหาประกันสุ...  \n",
              "9  พอดีทำประกันกับ FWD ไว้และต้องการยกเลิกเวนคืนก...  "
            ],
            "text/html": [
              "\n",
              "  <div id=\"df-c6a1e5bc-8c60-4eb3-b23b-377174664bd6\" class=\"colab-df-container\">\n",
              "    <div>\n",
              "<style scoped>\n",
              "    .dataframe tbody tr th:only-of-type {\n",
              "        vertical-align: middle;\n",
              "    }\n",
              "\n",
              "    .dataframe tbody tr th {\n",
              "        vertical-align: top;\n",
              "    }\n",
              "\n",
              "    .dataframe thead th {\n",
              "        text-align: right;\n",
              "    }\n",
              "</style>\n",
              "<table border=\"1\" class=\"dataframe\">\n",
              "  <thead>\n",
              "    <tr style=\"text-align: right;\">\n",
              "      <th></th>\n",
              "      <th>url</th>\n",
              "      <th>title</th>\n",
              "      <th>story</th>\n",
              "    </tr>\n",
              "  </thead>\n",
              "  <tbody>\n",
              "    <tr>\n",
              "      <th>0</th>\n",
              "      <td>https://pantip.com/topic/42470306</td>\n",
              "      <td>ประกันสุขภาพที่ไหนดีคะ 2567</td>\n",
              "      <td>คือเราอยากทำประกันสุขภาพ+อุบัติเหตุ ที่ไม่ต้อง...</td>\n",
              "    </tr>\n",
              "    <tr>\n",
              "      <th>1</th>\n",
              "      <td>https://pantip.com/topic/41850025</td>\n",
              "      <td>ประกันสุขภาพแบบไหนดี 2566</td>\n",
              "      <td>ช่วยแนะนำทีค่ะ อยากได้ประกันสุขภาพที่ครอบคลุมท...</td>\n",
              "    </tr>\n",
              "    <tr>\n",
              "      <th>2</th>\n",
              "      <td>https://pantip.com/topic/42660160</td>\n",
              "      <td>ยกเลิกประกันชีวิตดีไหมครับ</td>\n",
              "      <td>สมัยทำงานแรกๆเคยซื้อประกันชีวิตไว้ให้พ่อเป็นแบ...</td>\n",
              "    </tr>\n",
              "    <tr>\n",
              "      <th>3</th>\n",
              "      <td>https://pantip.com/topic/42369379</td>\n",
              "      <td>ตกงาน!! 6เดือนแล้ว มีแต่คนชวนไปขายประกัน ควรลอ...</td>\n",
              "      <td>กำลังเครียดมากเลยค่ะว่างงานมา6เดือนแล้วสัมภาษณ...</td>\n",
              "    </tr>\n",
              "    <tr>\n",
              "      <th>4</th>\n",
              "      <td>https://pantip.com/topic/41641266</td>\n",
              "      <td>ต้องการยกเลิกกรมธรรม์ FWD สะสมทรัพย์ 10/20</td>\n",
              "      <td>รบกวนสอบถามครับพอดีมีเจ้าหน้าที่ FWD เสนอโปรโม...</td>\n",
              "    </tr>\n",
              "    <tr>\n",
              "      <th>5</th>\n",
              "      <td>https://pantip.com/topic/42659926</td>\n",
              "      <td>กรุงไทยAxa ไม่เคลมมีใบประกาศ</td>\n",
              "      <td>เรื่องมีอยู่ว่าลูกสาวนอนรพล่าสุดเป็นไข้หวัดใหญ...</td>\n",
              "    </tr>\n",
              "    <tr>\n",
              "      <th>6</th>\n",
              "      <td>https://pantip.com/topic/42479831</td>\n",
              "      <td>คิดจะทำประกันชีวิตตอนอายุ 35 ช้าไปมั้ยครับ</td>\n",
              "      <td>คิดจะทำประกันชีวิตตอนอายุ35ช้าไปมั้ยครับเห็นเพ...</td>\n",
              "    </tr>\n",
              "    <tr>\n",
              "      <th>7</th>\n",
              "      <td>https://pantip.com/topic/42228144</td>\n",
              "      <td>ทำไมคนต้องการยกเลิก ประกัน อุบัติเหตุ ของ SCB ...</td>\n",
              "      <td>คือพอดีพึ่งมีสายจากตัวแทนขายประกันโทรมาเมื่อตอ...</td>\n",
              "    </tr>\n",
              "    <tr>\n",
              "      <th>8</th>\n",
              "      <td>https://pantip.com/topic/42545425</td>\n",
              "      <td>อยากซื้อประกันสุขภาพค่ะ 2567</td>\n",
              "      <td>อายุจะ23อีกประมาณ2อาทิตย์นี้ค่ะ อยากหาประกันสุ...</td>\n",
              "    </tr>\n",
              "    <tr>\n",
              "      <th>9</th>\n",
              "      <td>https://pantip.com/topic/42058854</td>\n",
              "      <td>การดำเนินการเวนคืนกรมธรรม์ FWD ดำเนินการอย่างไ...</td>\n",
              "      <td>พอดีทำประกันกับ FWD ไว้และต้องการยกเลิกเวนคืนก...</td>\n",
              "    </tr>\n",
              "  </tbody>\n",
              "</table>\n",
              "</div>\n",
              "    <div class=\"colab-df-buttons\">\n",
              "\n",
              "  <div class=\"colab-df-container\">\n",
              "    <button class=\"colab-df-convert\" onclick=\"convertToInteractive('df-c6a1e5bc-8c60-4eb3-b23b-377174664bd6')\"\n",
              "            title=\"Convert this dataframe to an interactive table.\"\n",
              "            style=\"display:none;\">\n",
              "\n",
              "  <svg xmlns=\"http://www.w3.org/2000/svg\" height=\"24px\" viewBox=\"0 -960 960 960\">\n",
              "    <path d=\"M120-120v-720h720v720H120Zm60-500h600v-160H180v160Zm220 220h160v-160H400v160Zm0 220h160v-160H400v160ZM180-400h160v-160H180v160Zm440 0h160v-160H620v160ZM180-180h160v-160H180v160Zm440 0h160v-160H620v160Z\"/>\n",
              "  </svg>\n",
              "    </button>\n",
              "\n",
              "  <style>\n",
              "    .colab-df-container {\n",
              "      display:flex;\n",
              "      gap: 12px;\n",
              "    }\n",
              "\n",
              "    .colab-df-convert {\n",
              "      background-color: #E8F0FE;\n",
              "      border: none;\n",
              "      border-radius: 50%;\n",
              "      cursor: pointer;\n",
              "      display: none;\n",
              "      fill: #1967D2;\n",
              "      height: 32px;\n",
              "      padding: 0 0 0 0;\n",
              "      width: 32px;\n",
              "    }\n",
              "\n",
              "    .colab-df-convert:hover {\n",
              "      background-color: #E2EBFA;\n",
              "      box-shadow: 0px 1px 2px rgba(60, 64, 67, 0.3), 0px 1px 3px 1px rgba(60, 64, 67, 0.15);\n",
              "      fill: #174EA6;\n",
              "    }\n",
              "\n",
              "    .colab-df-buttons div {\n",
              "      margin-bottom: 4px;\n",
              "    }\n",
              "\n",
              "    [theme=dark] .colab-df-convert {\n",
              "      background-color: #3B4455;\n",
              "      fill: #D2E3FC;\n",
              "    }\n",
              "\n",
              "    [theme=dark] .colab-df-convert:hover {\n",
              "      background-color: #434B5C;\n",
              "      box-shadow: 0px 1px 3px 1px rgba(0, 0, 0, 0.15);\n",
              "      filter: drop-shadow(0px 1px 2px rgba(0, 0, 0, 0.3));\n",
              "      fill: #FFFFFF;\n",
              "    }\n",
              "  </style>\n",
              "\n",
              "    <script>\n",
              "      const buttonEl =\n",
              "        document.querySelector('#df-c6a1e5bc-8c60-4eb3-b23b-377174664bd6 button.colab-df-convert');\n",
              "      buttonEl.style.display =\n",
              "        google.colab.kernel.accessAllowed ? 'block' : 'none';\n",
              "\n",
              "      async function convertToInteractive(key) {\n",
              "        const element = document.querySelector('#df-c6a1e5bc-8c60-4eb3-b23b-377174664bd6');\n",
              "        const dataTable =\n",
              "          await google.colab.kernel.invokeFunction('convertToInteractive',\n",
              "                                                    [key], {});\n",
              "        if (!dataTable) return;\n",
              "\n",
              "        const docLinkHtml = 'Like what you see? Visit the ' +\n",
              "          '<a target=\"_blank\" href=https://colab.research.google.com/notebooks/data_table.ipynb>data table notebook</a>'\n",
              "          + ' to learn more about interactive tables.';\n",
              "        element.innerHTML = '';\n",
              "        dataTable['output_type'] = 'display_data';\n",
              "        await google.colab.output.renderOutput(dataTable, element);\n",
              "        const docLink = document.createElement('div');\n",
              "        docLink.innerHTML = docLinkHtml;\n",
              "        element.appendChild(docLink);\n",
              "      }\n",
              "    </script>\n",
              "  </div>\n",
              "\n",
              "\n",
              "<div id=\"df-416f80e0-bcb4-432f-99bb-4176d8683600\">\n",
              "  <button class=\"colab-df-quickchart\" onclick=\"quickchart('df-416f80e0-bcb4-432f-99bb-4176d8683600')\"\n",
              "            title=\"Suggest charts\"\n",
              "            style=\"display:none;\">\n",
              "\n",
              "<svg xmlns=\"http://www.w3.org/2000/svg\" height=\"24px\"viewBox=\"0 0 24 24\"\n",
              "     width=\"24px\">\n",
              "    <g>\n",
              "        <path d=\"M19 3H5c-1.1 0-2 .9-2 2v14c0 1.1.9 2 2 2h14c1.1 0 2-.9 2-2V5c0-1.1-.9-2-2-2zM9 17H7v-7h2v7zm4 0h-2V7h2v10zm4 0h-2v-4h2v4z\"/>\n",
              "    </g>\n",
              "</svg>\n",
              "  </button>\n",
              "\n",
              "<style>\n",
              "  .colab-df-quickchart {\n",
              "      --bg-color: #E8F0FE;\n",
              "      --fill-color: #1967D2;\n",
              "      --hover-bg-color: #E2EBFA;\n",
              "      --hover-fill-color: #174EA6;\n",
              "      --disabled-fill-color: #AAA;\n",
              "      --disabled-bg-color: #DDD;\n",
              "  }\n",
              "\n",
              "  [theme=dark] .colab-df-quickchart {\n",
              "      --bg-color: #3B4455;\n",
              "      --fill-color: #D2E3FC;\n",
              "      --hover-bg-color: #434B5C;\n",
              "      --hover-fill-color: #FFFFFF;\n",
              "      --disabled-bg-color: #3B4455;\n",
              "      --disabled-fill-color: #666;\n",
              "  }\n",
              "\n",
              "  .colab-df-quickchart {\n",
              "    background-color: var(--bg-color);\n",
              "    border: none;\n",
              "    border-radius: 50%;\n",
              "    cursor: pointer;\n",
              "    display: none;\n",
              "    fill: var(--fill-color);\n",
              "    height: 32px;\n",
              "    padding: 0;\n",
              "    width: 32px;\n",
              "  }\n",
              "\n",
              "  .colab-df-quickchart:hover {\n",
              "    background-color: var(--hover-bg-color);\n",
              "    box-shadow: 0 1px 2px rgba(60, 64, 67, 0.3), 0 1px 3px 1px rgba(60, 64, 67, 0.15);\n",
              "    fill: var(--button-hover-fill-color);\n",
              "  }\n",
              "\n",
              "  .colab-df-quickchart-complete:disabled,\n",
              "  .colab-df-quickchart-complete:disabled:hover {\n",
              "    background-color: var(--disabled-bg-color);\n",
              "    fill: var(--disabled-fill-color);\n",
              "    box-shadow: none;\n",
              "  }\n",
              "\n",
              "  .colab-df-spinner {\n",
              "    border: 2px solid var(--fill-color);\n",
              "    border-color: transparent;\n",
              "    border-bottom-color: var(--fill-color);\n",
              "    animation:\n",
              "      spin 1s steps(1) infinite;\n",
              "  }\n",
              "\n",
              "  @keyframes spin {\n",
              "    0% {\n",
              "      border-color: transparent;\n",
              "      border-bottom-color: var(--fill-color);\n",
              "      border-left-color: var(--fill-color);\n",
              "    }\n",
              "    20% {\n",
              "      border-color: transparent;\n",
              "      border-left-color: var(--fill-color);\n",
              "      border-top-color: var(--fill-color);\n",
              "    }\n",
              "    30% {\n",
              "      border-color: transparent;\n",
              "      border-left-color: var(--fill-color);\n",
              "      border-top-color: var(--fill-color);\n",
              "      border-right-color: var(--fill-color);\n",
              "    }\n",
              "    40% {\n",
              "      border-color: transparent;\n",
              "      border-right-color: var(--fill-color);\n",
              "      border-top-color: var(--fill-color);\n",
              "    }\n",
              "    60% {\n",
              "      border-color: transparent;\n",
              "      border-right-color: var(--fill-color);\n",
              "    }\n",
              "    80% {\n",
              "      border-color: transparent;\n",
              "      border-right-color: var(--fill-color);\n",
              "      border-bottom-color: var(--fill-color);\n",
              "    }\n",
              "    90% {\n",
              "      border-color: transparent;\n",
              "      border-bottom-color: var(--fill-color);\n",
              "    }\n",
              "  }\n",
              "</style>\n",
              "\n",
              "  <script>\n",
              "    async function quickchart(key) {\n",
              "      const quickchartButtonEl =\n",
              "        document.querySelector('#' + key + ' button');\n",
              "      quickchartButtonEl.disabled = true;  // To prevent multiple clicks.\n",
              "      quickchartButtonEl.classList.add('colab-df-spinner');\n",
              "      try {\n",
              "        const charts = await google.colab.kernel.invokeFunction(\n",
              "            'suggestCharts', [key], {});\n",
              "      } catch (error) {\n",
              "        console.error('Error during call to suggestCharts:', error);\n",
              "      }\n",
              "      quickchartButtonEl.classList.remove('colab-df-spinner');\n",
              "      quickchartButtonEl.classList.add('colab-df-quickchart-complete');\n",
              "    }\n",
              "    (() => {\n",
              "      let quickchartButtonEl =\n",
              "        document.querySelector('#df-416f80e0-bcb4-432f-99bb-4176d8683600 button');\n",
              "      quickchartButtonEl.style.display =\n",
              "        google.colab.kernel.accessAllowed ? 'block' : 'none';\n",
              "    })();\n",
              "  </script>\n",
              "</div>\n",
              "    </div>\n",
              "  </div>\n"
            ],
            "application/vnd.google.colaboratory.intrinsic+json": {
              "type": "dataframe",
              "variable_name": "df",
              "summary": "{\n  \"name\": \"df\",\n  \"rows\": 10,\n  \"fields\": [\n    {\n      \"column\": \"url\",\n      \"properties\": {\n        \"dtype\": \"string\",\n        \"num_unique_values\": 10,\n        \"samples\": [\n          \"https://pantip.com/topic/42545425\",\n          \"https://pantip.com/topic/41850025\",\n          \"https://pantip.com/topic/42659926\"\n        ],\n        \"semantic_type\": \"\",\n        \"description\": \"\"\n      }\n    },\n    {\n      \"column\": \"title\",\n      \"properties\": {\n        \"dtype\": \"string\",\n        \"num_unique_values\": 10,\n        \"samples\": [\n          \"\\u0e2d\\u0e22\\u0e32\\u0e01\\u0e0b\\u0e37\\u0e49\\u0e2d\\u0e1b\\u0e23\\u0e30\\u0e01\\u0e31\\u0e19\\u0e2a\\u0e38\\u0e02\\u0e20\\u0e32\\u0e1e\\u0e04\\u0e48\\u0e30 2567\",\n          \"\\u0e1b\\u0e23\\u0e30\\u0e01\\u0e31\\u0e19\\u0e2a\\u0e38\\u0e02\\u0e20\\u0e32\\u0e1e\\u0e41\\u0e1a\\u0e1a\\u0e44\\u0e2b\\u0e19\\u0e14\\u0e35 2566\",\n          \"\\u0e01\\u0e23\\u0e38\\u0e07\\u0e44\\u0e17\\u0e22Axa \\u0e44\\u0e21\\u0e48\\u0e40\\u0e04\\u0e25\\u0e21\\u0e21\\u0e35\\u0e43\\u0e1a\\u0e1b\\u0e23\\u0e30\\u0e01\\u0e32\\u0e28\"\n        ],\n        \"semantic_type\": \"\",\n        \"description\": \"\"\n      }\n    },\n    {\n      \"column\": \"story\",\n      \"properties\": {\n        \"dtype\": \"string\",\n        \"num_unique_values\": 10,\n        \"samples\": [\n          \"\\u0e2d\\u0e32\\u0e22\\u0e38\\u0e08\\u0e3023\\u0e2d\\u0e35\\u0e01\\u0e1b\\u0e23\\u0e30\\u0e21\\u0e32\\u0e132\\u0e2d\\u0e32\\u0e17\\u0e34\\u0e15\\u0e22\\u0e4c\\u0e19\\u0e35\\u0e49\\u0e04\\u0e48\\u0e30 \\u0e2d\\u0e22\\u0e32\\u0e01\\u0e2b\\u0e32\\u0e1b\\u0e23\\u0e30\\u0e01\\u0e31\\u0e19\\u0e2a\\u0e38\\u0e02\\u0e17\\u0e35\\u0e48\\u0e44\\u0e21\\u0e48\\u0e15\\u0e49\\u0e2d\\u0e07\\u0e2a\\u0e33\\u0e23\\u0e2d\\u0e07\\u0e08\\u0e48\\u0e32\\u0e22 \\u0e04\\u0e38\\u0e49\\u0e21\\u0e04\\u0e23\\u0e2d\\u0e07OPD-IPD \\u0e04\\u0e48\\u0e32\\u0e2b\\u0e49\\u0e2d\\u0e07 \\u0e04\\u0e48\\u0e32\\u0e23\\u0e31\\u0e01\\u0e29\\u0e32 \\u0e16\\u0e49\\u0e32\\u0e08\\u0e48\\u0e32\\u0e22\\u0e40\\u0e1b\\u0e47\\u0e19\\u0e40\\u0e14\\u0e37\\u0e2d\\u0e19\\u0e08\\u0e48\\u0e32\\u0e22\\u0e44\\u0e14\\u0e49\\u0e1b\\u0e23\\u0e30\\u0e21\\u0e32\\u0e13\\u0e40\\u0e14\\u0e37\\u0e2d\\u0e19\\u0e25\\u0e301,000 \\u0e0a\\u0e48\\u0e27\\u0e22\\u0e41\\u0e19\\u0e30\\u0e30\\u0e19\\u0e30\\u0e2b\\u0e19\\u0e48\\u0e2d\\u0e22\\u0e04\\u0e48\\u0e30 \\u0e02\\u0e2d\\u0e1a\\u0e04\\u0e38\\u0e13\\u0e04\\u0e48\\u0e30   \\u0e41\\u0e01\\u0e49\\u0e44\\u0e02\\u0e02\\u0e49\\u0e2d\\u0e04\\u0e27\\u0e32\\u0e21\\u0e40\\u0e21\\u0e37\\u0e48\\u0e2d\",\n          \"\\u0e0a\\u0e48\\u0e27\\u0e22\\u0e41\\u0e19\\u0e30\\u0e19\\u0e33\\u0e17\\u0e35\\u0e04\\u0e48\\u0e30 \\u0e2d\\u0e22\\u0e32\\u0e01\\u0e44\\u0e14\\u0e49\\u0e1b\\u0e23\\u0e30\\u0e01\\u0e31\\u0e19\\u0e2a\\u0e38\\u0e02\\u0e20\\u0e32\\u0e1e\\u0e17\\u0e35\\u0e48\\u0e04\\u0e23\\u0e2d\\u0e1a\\u0e04\\u0e25\\u0e38\\u0e21\\u0e17\\u0e31\\u0e49\\u0e07\\u0e2b\\u0e21\\u0e14 \\u0e42\\u0e23\\u0e04\\u0e23\\u0e49\\u0e32\\u0e22\\u0e41\\u0e23\\u0e07 \\u0e04\\u0e48\\u0e32\\u0e23\\u0e31\\u0e01\\u0e29\\u0e32\\u0e1e\\u0e22\\u0e32\\u0e1a\\u0e32\\u0e25 \\u0e1b\\u0e23\\u0e30\\u0e01\\u0e31\\u0e19\\u0e0a\\u0e35\\u0e27\\u0e34\\u0e15\",\n          \"\\u0e40\\u0e23\\u0e37\\u0e48\\u0e2d\\u0e07\\u0e21\\u0e35\\u0e2d\\u0e22\\u0e39\\u0e48\\u0e27\\u0e48\\u0e32\\u0e25\\u0e39\\u0e01\\u0e2a\\u0e32\\u0e27\\u0e19\\u0e2d\\u0e19\\u0e23\\u0e1e\\u0e25\\u0e48\\u0e32\\u0e2a\\u0e38\\u0e14\\u0e40\\u0e1b\\u0e47\\u0e19\\u0e44\\u0e02\\u0e49\\u0e2b\\u0e27\\u0e31\\u0e14\\u0e43\\u0e2b\\u0e0d\\u0e48\\u0e2a\\u0e32\\u0e22\\u0e1e\\u0e31\\u0e19\\u0e18\\u0e38\\u0e4cA\\u0e2d\\u0e32\\u0e01\\u0e32\\u0e23\\u0e04\\u0e48\\u0e2d\\u0e19\\u0e02\\u0e49\\u0e32\\u0e07\\u0e2b\\u0e19\\u0e31\\u0e01\\u0e44\\u0e2d\\u0e40\\u0e22\\u0e2d\\u0e30\\u0e21\\u0e35\\u0e44\\u0e02\\u0e49\\u0e2a\\u0e39\\u0e07\\u0e2b\\u0e25\\u0e31\\u0e07\\u0e08\\u0e32\\u0e01\\u0e41\\u0e2d\\u0e14\\u0e21\\u0e34\\u0e14\\u0e23\\u0e2d\\u0e1a\\u0e19\\u0e35\\u0e49\\u0e1b\\u0e23\\u0e30\\u0e01\\u0e31\\u0e19\\u0e40\\u0e04\\u0e25\\u0e21\\u0e44\\u0e1b63xxx\\u0e17\\u0e31\\u0e49\\u0e07\\u0e2b\\u0e21\\u0e147\\u0e04\\u0e37\\u0e19\\u0e04\\u0e48\\u0e30\\u0e2b\\u0e25\\u0e31\\u0e07\\u0e08\\u0e32\\u0e012\\u0e40\\u0e14\\u0e37\\u0e2d\\u0e19\\u0e1c\\u0e48\\u0e32\\u0e19\\u0e21\\u0e32\\u0e21\\u0e35sms\\u0e27\\u0e48\\u0e32\\u0e15\\u0e31\\u0e49\\u0e07\\u0e41\\u0e15\\u0e48\\u0e27\\u0e31\\u0e19\\u0e17\\u0e35\\u0e481\\u0e1e\\u0e0467\\u0e40\\u0e1b\\u0e47\\u0e19\\u0e15\\u0e49\\u0e19\\u0e44\\u0e1b\\u0e43\\u0e2b\\u0e49\\u0e2a\\u0e33\\u0e23\\u0e2d\\u0e07\\u0e08\\u0e48\\u0e32\\u0e22\\u0e17\\u0e38\\u0e01\\u0e04\\u0e23\\u0e31\\u0e49\\u0e07\\u0e17\\u0e35\\u0e48\\u0e19\\u0e2d\\u0e19\\u0e23\\u0e1e...\\u0e16\\u0e32\\u0e21\\u0e1a\\u0e23\\u0e34\\u0e29\\u0e31\\u0e17\\u0e2b\\u0e19\\u0e48\\u0e2d\\u0e22\\u0e27\\u0e48\\u0e2a\\u0e40\\u0e23\\u0e32\\u0e2a\\u0e48\\u0e07\\u0e1b\\u0e23\\u0e30\\u0e01\\u0e31\\u0e19\\u0e21\\u0e328\\u0e1b\\u0e35\\u0e41\\u0e25\\u0e49\\u0e27\\u0e2d\\u0e35\\u0e015\\u0e1b\\u0e35\\u0e08\\u0e30\\u0e04\\u0e23\\u0e1a\\u0e2a\\u0e31\\u0e0d\\u0e0d\\u0e32\\u0e17\\u0e33\\u0e44\\u0e21\\u0e40\\u0e23\\u0e32\\u0e44\\u0e14\\u0e49sms\\u0e41\\u0e1a\\u0e1a\\u0e19\\u0e35\\u0e49\\u0e04\\u0e48\\u0e30\\u0e40\\u0e1e\\u0e23\\u0e32\\u0e30\\u0e2d\\u0e30\\u0e44\\u0e23\\u0e04\\u0e48\\u0e30\\u0e40\\u0e23\\u0e32\\u0e1c\\u0e34\\u0e14\\u0e15\\u0e23\\u0e07\\u0e44\\u0e2b\\u0e19\\u0e25\\u0e39\\u0e01\\u0e40\\u0e23\\u0e32\\u0e01\\u0e47\\u0e1b\\u0e48\\u0e27\\u0e22\\u0e08\\u0e23\\u0e34\\u0e07\\u0e44\\u0e21\\u0e48\\u0e21\\u0e35\\u0e43\\u0e04\\u0e23\\u0e2d\\u0e22\\u0e32\\u0e01\\u0e1b\\u0e48\\u0e27\\u0e22\\u0e44\\u0e1b\\u0e19\\u0e2d\\u0e19\\u0e23\\u0e1e\\u0e1a\\u0e48\\u0e2d\\u0e22\\u0e46\\u0e2b\\u0e25\\u0e2d\\u0e01\\u0e04\\u0e48\\u0e30\\u0e41\\u0e25\\u0e49\\u0e27\\u0e40\\u0e23\\u0e32\\u0e15\\u0e49\\u0e2d\\u0e07\\u0e2a\\u0e33\\u0e23\\u0e2d\\u0e07\\u0e08\\u0e48\\u0e32\\u0e22\\u0e15\\u0e25\\u0e2d\\u0e14\\u0e44\\u0e1b\\u0e2b\\u0e23\\u0e37\\u0e2d\\u0e04\\u0e48\\u0e30\\u0e41\\u0e25\\u0e49\\u0e27\\u0e40\\u0e23\\u0e32\\u0e08\\u0e30\\u0e17\\u0e33\\u0e1b\\u0e23\\u0e30\\u0e01\\u0e31\\u0e19\\u0e01\\u0e31\\u0e1a\\u0e1a\\u0e23\\u0e34\\u0e29\\u0e31\\u0e17\\u0e04\\u0e38\\u0e13\\u0e17\\u0e33\\u0e44\\u0e21\\u0e04\\u0e48\\u0e30\\u0e40\\u0e08\\u0e2d\\u0e01\\u0e23\\u0e13\\u0e35\\u0e41\\u0e1a\\u0e1a\\u0e19\\u0e35\\u0e49\\u0e44\\u0e21\\u0e48\\u0e15\\u0e48\\u0e32\\u0e07\\u0e01\\u0e31\\u0e1a\\u0e43\\u0e2b\\u0e49\\u0e40\\u0e23\\u0e32\\u0e22\\u0e01\\u0e40\\u0e25\\u0e34\\u0e01\\u0e2a\\u0e31\\u0e0d\\u0e0d\\u0e32\\u0e16\\u0e49\\u0e32\\u0e40\\u0e15\\u0e2d\\u0e41\\u0e1a\\u0e1a\\u0e19\\u0e35\\u0e49\\u0e22\\u0e49\\u0e2d\\u0e19\\u0e01\\u0e25\\u0e31\\u0e1a\\u0e44\\u0e1b\\u0e40\\u0e23\\u0e32\\u0e08\\u0e30\\u0e44\\u0e21\\u0e48\\u0e17\\u0e33\\u0e1b\\u0e23\\u0e30\\u0e01\\u0e31\\u0e19\\u0e1a\\u0e23\\u0e34\\u0e29\\u0e31\\u0e17\\u0e19\\u0e35\\u0e49\\u0e41\\u0e25\\u0e49\\u0e27\\u0e15\\u0e31\\u0e27\\u0e41\\u0e17\\u0e19\\u0e01\\u0e47\\u0e44\\u0e21\\u0e48\\u0e21\\u0e35\\u0e43\\u0e04\\u0e23\\u0e14\\u0e39\\u0e41\\u0e25\\u0e40\\u0e23\\u0e32\\u0e40\\u0e25\\u0e22\\u0e22\\u0e02\\u0e32\\u0e22\\u0e41\\u0e25\\u0e49\\u0e27\\u0e17\\u0e34\\u0e49\\u0e07\\u0e40\\u0e23\\u0e32\\u0e22\\u0e31\\u0e07\\u0e01\\u0e31\\u0e1a\\u0e2b\\u0e21\\u0e32\\u0e15\\u0e31\\u0e27\\u0e19\\u0e36\\u0e07\\u0e04\\u0e48\\u0e30\\u0e08\\u0e23\\u0e34\\u0e07\\u0e46\\u0e46\\u0e41\\u0e22\\u0e48\\u0e21\\u0e32\\u0e01\\u0e16\\u0e49\\u0e32\\u0e25\\u0e39\\u0e01\\u0e40\\u0e23\\u0e32\\u0e40\\u0e08\\u0e47\\u0e1a\\u0e1b\\u0e48\\u0e27\\u0e22\\u0e40\\u0e23\\u0e32\\u0e08\\u0e30\\u0e15\\u0e49\\u0e2d\\u0e07\\u0e2a\\u0e33\\u0e23\\u0e2d\\u0e07\\u0e08\\u0e48\\u0e32\\u0e22\\u0e41\\u0e1a\\u0e1a\\u0e19\\u0e35\\u0e49\\u0e15\\u0e25\\u0e2d\\u0e14\\u0e2b\\u0e23\\u0e37\\u0e2d\\u0e04\\u0e48\\u0e30\\u0e15\\u0e2d\\u0e1a\\u0e17\\u0e35\"\n        ],\n        \"semantic_type\": \"\",\n        \"description\": \"\"\n      }\n    }\n  ]\n}"
            }
          },
          "metadata": {},
          "execution_count": 58
        }
      ]
    }
  ],
  "metadata": {
    "colab": {
      "provenance": [],
      "include_colab_link": true
    },
    "kernelspec": {
      "display_name": "Python 3",
      "name": "python3"
    },
    "language_info": {
      "name": "python"
    }
  },
  "nbformat": 4,
  "nbformat_minor": 0
}